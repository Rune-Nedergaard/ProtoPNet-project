{
 "cells": [
  {
   "cell_type": "code",
   "execution_count": 1,
   "metadata": {},
   "outputs": [],
   "source": [
    "import numpy as np\n",
    "import pandas as pd\n",
    "import os\n"
   ]
  },
  {
   "cell_type": "code",
   "execution_count": 5,
   "metadata": {},
   "outputs": [
    {
     "data": {
      "text/plain": [
       "['attributes.txt', 'CUB_200_2011', 'CUB_200_2011.tar', 'FETAL_PLANES_ZENODO']"
      ]
     },
     "execution_count": 5,
     "metadata": {},
     "output_type": "execute_result"
    }
   ],
   "source": [
    "os.listdir('data')"
   ]
  },
  {
   "cell_type": "code",
   "execution_count": 6,
   "metadata": {},
   "outputs": [
    {
     "data": {
      "text/html": [
       "<div>\n",
       "<style scoped>\n",
       "    .dataframe tbody tr th:only-of-type {\n",
       "        vertical-align: middle;\n",
       "    }\n",
       "\n",
       "    .dataframe tbody tr th {\n",
       "        vertical-align: top;\n",
       "    }\n",
       "\n",
       "    .dataframe thead th {\n",
       "        text-align: right;\n",
       "    }\n",
       "</style>\n",
       "<table border=\"1\" class=\"dataframe\">\n",
       "  <thead>\n",
       "    <tr style=\"text-align: right;\">\n",
       "      <th></th>\n",
       "      <th>Image_name</th>\n",
       "      <th>Patient_num</th>\n",
       "      <th>Plane</th>\n",
       "      <th>Brain_plane</th>\n",
       "      <th>Operator</th>\n",
       "      <th>US_Machine</th>\n",
       "      <th>Train</th>\n",
       "    </tr>\n",
       "  </thead>\n",
       "  <tbody>\n",
       "    <tr>\n",
       "      <th>0</th>\n",
       "      <td>Patient00001_Plane1_1_of_15</td>\n",
       "      <td>1</td>\n",
       "      <td>Other</td>\n",
       "      <td>Not A Brain</td>\n",
       "      <td>Other</td>\n",
       "      <td>Aloka</td>\n",
       "      <td>1</td>\n",
       "    </tr>\n",
       "    <tr>\n",
       "      <th>1</th>\n",
       "      <td>Patient00001_Plane1_2_of_15</td>\n",
       "      <td>1</td>\n",
       "      <td>Other</td>\n",
       "      <td>Not A Brain</td>\n",
       "      <td>Other</td>\n",
       "      <td>Aloka</td>\n",
       "      <td>1</td>\n",
       "    </tr>\n",
       "    <tr>\n",
       "      <th>2</th>\n",
       "      <td>Patient00001_Plane1_3_of_15</td>\n",
       "      <td>1</td>\n",
       "      <td>Other</td>\n",
       "      <td>Not A Brain</td>\n",
       "      <td>Other</td>\n",
       "      <td>Aloka</td>\n",
       "      <td>1</td>\n",
       "    </tr>\n",
       "    <tr>\n",
       "      <th>3</th>\n",
       "      <td>Patient00001_Plane1_4_of_15</td>\n",
       "      <td>1</td>\n",
       "      <td>Other</td>\n",
       "      <td>Not A Brain</td>\n",
       "      <td>Other</td>\n",
       "      <td>Aloka</td>\n",
       "      <td>1</td>\n",
       "    </tr>\n",
       "    <tr>\n",
       "      <th>4</th>\n",
       "      <td>Patient00001_Plane1_5_of_15</td>\n",
       "      <td>1</td>\n",
       "      <td>Other</td>\n",
       "      <td>Not A Brain</td>\n",
       "      <td>Other</td>\n",
       "      <td>Aloka</td>\n",
       "      <td>1</td>\n",
       "    </tr>\n",
       "  </tbody>\n",
       "</table>\n",
       "</div>"
      ],
      "text/plain": [
       "                    Image_name  Patient_num  Plane  Brain_plane Operator  \\\n",
       "0  Patient00001_Plane1_1_of_15            1  Other  Not A Brain    Other   \n",
       "1  Patient00001_Plane1_2_of_15            1  Other  Not A Brain    Other   \n",
       "2  Patient00001_Plane1_3_of_15            1  Other  Not A Brain    Other   \n",
       "3  Patient00001_Plane1_4_of_15            1  Other  Not A Brain    Other   \n",
       "4  Patient00001_Plane1_5_of_15            1  Other  Not A Brain    Other   \n",
       "\n",
       "  US_Machine  Train   \n",
       "0      Aloka       1  \n",
       "1      Aloka       1  \n",
       "2      Aloka       1  \n",
       "3      Aloka       1  \n",
       "4      Aloka       1  "
      ]
     },
     "execution_count": 6,
     "metadata": {},
     "output_type": "execute_result"
    }
   ],
   "source": [
    "data = pd.read_csv('data/FETAL_PLANES_ZENODO/FETAL_PLANES_DB_data.csv', delimiter=';')\n",
    "data.head()"
   ]
  },
  {
   "cell_type": "code",
   "execution_count": 7,
   "metadata": {},
   "outputs": [],
   "source": [
    "#initialize empty category\n",
    "data['category'] = [0 for i in range(len(data))]\n"
   ]
  },
  {
   "cell_type": "code",
   "execution_count": 8,
   "metadata": {},
   "outputs": [
    {
     "data": {
      "text/plain": [
       "1    7129\n",
       "0    5271\n",
       "Name: Train , dtype: int64"
      ]
     },
     "execution_count": 8,
     "metadata": {},
     "output_type": "execute_result"
    }
   ],
   "source": [
    "data['Train '].value_counts()"
   ]
  },
  {
   "cell_type": "code",
   "execution_count": 9,
   "metadata": {},
   "outputs": [
    {
     "name": "stderr",
     "output_type": "stream",
     "text": [
      "C:\\Users\\rune7\\AppData\\Local\\Temp\\ipykernel_6188\\213647302.py:5: SettingWithCopyWarning: \n",
      "A value is trying to be set on a copy of a slice from a DataFrame\n",
      "\n",
      "See the caveats in the documentation: https://pandas.pydata.org/pandas-docs/stable/user_guide/indexing.html#returning-a-view-versus-a-copy\n",
      "  data['category'][i] = overcategory\n"
     ]
    }
   ],
   "source": [
    "#map images to category\n",
    "for i in range(len(data)):\n",
    "    overcategory = data['Plane'][i]\n",
    "    if overcategory != 'Fetal brain':\n",
    "        data['category'][i] = overcategory\n",
    "    else:\n",
    "        category = data['Brain_plane'][i]\n",
    "        data['category'][i] = category"
   ]
  },
  {
   "cell_type": "code",
   "execution_count": 10,
   "metadata": {},
   "outputs": [],
   "source": [
    "#4. Split the  images into training and test sets\n",
    "import shutil\n",
    "img_path = 'data/FETAL_PLANES_ZENODO/Images/'"
   ]
  },
  {
   "cell_type": "code",
   "execution_count": 11,
   "metadata": {},
   "outputs": [],
   "source": [
    "def makedir(path):\n",
    "    '''\n",
    "    if path does not exist in the file system, create it\n",
    "    '''\n",
    "    if not os.path.exists(path):\n",
    "        os.makedirs(path)"
   ]
  },
  {
   "cell_type": "code",
   "execution_count": 24,
   "metadata": {},
   "outputs": [
    {
     "data": {
      "text/html": [
       "<div>\n",
       "<style scoped>\n",
       "    .dataframe tbody tr th:only-of-type {\n",
       "        vertical-align: middle;\n",
       "    }\n",
       "\n",
       "    .dataframe tbody tr th {\n",
       "        vertical-align: top;\n",
       "    }\n",
       "\n",
       "    .dataframe thead th {\n",
       "        text-align: right;\n",
       "    }\n",
       "</style>\n",
       "<table border=\"1\" class=\"dataframe\">\n",
       "  <thead>\n",
       "    <tr style=\"text-align: right;\">\n",
       "      <th></th>\n",
       "      <th>Image_name</th>\n",
       "      <th>Patient_num</th>\n",
       "      <th>Plane</th>\n",
       "      <th>Brain_plane</th>\n",
       "      <th>Operator</th>\n",
       "      <th>US_Machine</th>\n",
       "      <th>Train</th>\n",
       "      <th>category</th>\n",
       "    </tr>\n",
       "  </thead>\n",
       "  <tbody>\n",
       "    <tr>\n",
       "      <th>0</th>\n",
       "      <td>Patient00001_Plane1_1_of_15</td>\n",
       "      <td>1</td>\n",
       "      <td>Other</td>\n",
       "      <td>Not A Brain</td>\n",
       "      <td>Other</td>\n",
       "      <td>Aloka</td>\n",
       "      <td>1</td>\n",
       "      <td>Other</td>\n",
       "    </tr>\n",
       "    <tr>\n",
       "      <th>1</th>\n",
       "      <td>Patient00001_Plane1_2_of_15</td>\n",
       "      <td>1</td>\n",
       "      <td>Other</td>\n",
       "      <td>Not A Brain</td>\n",
       "      <td>Other</td>\n",
       "      <td>Aloka</td>\n",
       "      <td>1</td>\n",
       "      <td>Other</td>\n",
       "    </tr>\n",
       "    <tr>\n",
       "      <th>2</th>\n",
       "      <td>Patient00001_Plane1_3_of_15</td>\n",
       "      <td>1</td>\n",
       "      <td>Other</td>\n",
       "      <td>Not A Brain</td>\n",
       "      <td>Other</td>\n",
       "      <td>Aloka</td>\n",
       "      <td>1</td>\n",
       "      <td>Other</td>\n",
       "    </tr>\n",
       "    <tr>\n",
       "      <th>3</th>\n",
       "      <td>Patient00001_Plane1_4_of_15</td>\n",
       "      <td>1</td>\n",
       "      <td>Other</td>\n",
       "      <td>Not A Brain</td>\n",
       "      <td>Other</td>\n",
       "      <td>Aloka</td>\n",
       "      <td>1</td>\n",
       "      <td>Other</td>\n",
       "    </tr>\n",
       "    <tr>\n",
       "      <th>4</th>\n",
       "      <td>Patient00001_Plane1_5_of_15</td>\n",
       "      <td>1</td>\n",
       "      <td>Other</td>\n",
       "      <td>Not A Brain</td>\n",
       "      <td>Other</td>\n",
       "      <td>Aloka</td>\n",
       "      <td>1</td>\n",
       "      <td>Other</td>\n",
       "    </tr>\n",
       "    <tr>\n",
       "      <th>...</th>\n",
       "      <td>...</td>\n",
       "      <td>...</td>\n",
       "      <td>...</td>\n",
       "      <td>...</td>\n",
       "      <td>...</td>\n",
       "      <td>...</td>\n",
       "      <td>...</td>\n",
       "      <td>...</td>\n",
       "    </tr>\n",
       "    <tr>\n",
       "      <th>12395</th>\n",
       "      <td>Patient01791_Plane5_1_of_1</td>\n",
       "      <td>1791</td>\n",
       "      <td>Fetal femur</td>\n",
       "      <td>Not A Brain</td>\n",
       "      <td>Other</td>\n",
       "      <td>Voluson S10</td>\n",
       "      <td>0</td>\n",
       "      <td>Fetal femur</td>\n",
       "    </tr>\n",
       "    <tr>\n",
       "      <th>12396</th>\n",
       "      <td>Patient01792_Plane2_1_of_1</td>\n",
       "      <td>1792</td>\n",
       "      <td>Fetal abdomen</td>\n",
       "      <td>Not A Brain</td>\n",
       "      <td>Other</td>\n",
       "      <td>Voluson E6</td>\n",
       "      <td>0</td>\n",
       "      <td>Fetal abdomen</td>\n",
       "    </tr>\n",
       "    <tr>\n",
       "      <th>12397</th>\n",
       "      <td>Patient01792_Plane3_1_of_1</td>\n",
       "      <td>1792</td>\n",
       "      <td>Fetal brain</td>\n",
       "      <td>Trans-thalamic</td>\n",
       "      <td>Other</td>\n",
       "      <td>Voluson E6</td>\n",
       "      <td>0</td>\n",
       "      <td>Trans-thalamic</td>\n",
       "    </tr>\n",
       "    <tr>\n",
       "      <th>12398</th>\n",
       "      <td>Patient01792_Plane5_1_of_1</td>\n",
       "      <td>1792</td>\n",
       "      <td>Fetal femur</td>\n",
       "      <td>Not A Brain</td>\n",
       "      <td>Other</td>\n",
       "      <td>Voluson E6</td>\n",
       "      <td>0</td>\n",
       "      <td>Fetal femur</td>\n",
       "    </tr>\n",
       "    <tr>\n",
       "      <th>12399</th>\n",
       "      <td>Patient01792_Plane6_1_of_1</td>\n",
       "      <td>1792</td>\n",
       "      <td>Fetal thorax</td>\n",
       "      <td>Not A Brain</td>\n",
       "      <td>Other</td>\n",
       "      <td>Voluson E6</td>\n",
       "      <td>0</td>\n",
       "      <td>Fetal thorax</td>\n",
       "    </tr>\n",
       "  </tbody>\n",
       "</table>\n",
       "<p>12400 rows × 8 columns</p>\n",
       "</div>"
      ],
      "text/plain": [
       "                        Image_name  Patient_num          Plane  \\\n",
       "0      Patient00001_Plane1_1_of_15            1          Other   \n",
       "1      Patient00001_Plane1_2_of_15            1          Other   \n",
       "2      Patient00001_Plane1_3_of_15            1          Other   \n",
       "3      Patient00001_Plane1_4_of_15            1          Other   \n",
       "4      Patient00001_Plane1_5_of_15            1          Other   \n",
       "...                            ...          ...            ...   \n",
       "12395   Patient01791_Plane5_1_of_1         1791    Fetal femur   \n",
       "12396   Patient01792_Plane2_1_of_1         1792  Fetal abdomen   \n",
       "12397   Patient01792_Plane3_1_of_1         1792    Fetal brain   \n",
       "12398   Patient01792_Plane5_1_of_1         1792    Fetal femur   \n",
       "12399   Patient01792_Plane6_1_of_1         1792   Fetal thorax   \n",
       "\n",
       "          Brain_plane Operator   US_Machine  Train         category  \n",
       "0         Not A Brain    Other        Aloka       1           Other  \n",
       "1         Not A Brain    Other        Aloka       1           Other  \n",
       "2         Not A Brain    Other        Aloka       1           Other  \n",
       "3         Not A Brain    Other        Aloka       1           Other  \n",
       "4         Not A Brain    Other        Aloka       1           Other  \n",
       "...               ...      ...          ...     ...             ...  \n",
       "12395     Not A Brain    Other  Voluson S10       0     Fetal femur  \n",
       "12396     Not A Brain    Other   Voluson E6       0   Fetal abdomen  \n",
       "12397  Trans-thalamic    Other   Voluson E6       0  Trans-thalamic  \n",
       "12398     Not A Brain    Other   Voluson E6       0     Fetal femur  \n",
       "12399     Not A Brain    Other   Voluson E6       0    Fetal thorax  \n",
       "\n",
       "[12400 rows x 8 columns]"
      ]
     },
     "execution_count": 24,
     "metadata": {},
     "output_type": "execute_result"
    }
   ],
   "source": [
    "data"
   ]
  },
  {
   "cell_type": "code",
   "execution_count": 12,
   "metadata": {},
   "outputs": [],
   "source": [
    "#moving images to train and test folders\n",
    "for i in range(len(data)):\n",
    "    #get category\n",
    "    category = data['category'][i]\n",
    "    if data['Train '][i] == 1:\n",
    "        makedir('datasets/FETAL_PLANES_DB/train/' + category)\n",
    "        source = str(img_path + data['Image_name'][i] + '.png')\n",
    "        destination = str('datasets/FETAL_PLANES_DB/train/' + category + '/' + data['Image_name'][i] + '.png')\n",
    "        shutil.copy(source, destination)\n",
    "    else:\n",
    "        makedir('datasets/FETAL_PLANES_DB/test/' + category)\n",
    "        source = str(img_path + data['Image_name'][i] + '.png')\n",
    "        destination = str('datasets/FETAL_PLANES_DB/test/' + category + '/' + data['Image_name'][i] + '.png')\n",
    "        shutil.copy(source, destination)"
   ]
  }
 ],
 "metadata": {
  "kernelspec": {
   "display_name": "Python 3.9.13 ('proto')",
   "language": "python",
   "name": "python3"
  },
  "language_info": {
   "codemirror_mode": {
    "name": "ipython",
    "version": 3
   },
   "file_extension": ".py",
   "mimetype": "text/x-python",
   "name": "python",
   "nbconvert_exporter": "python",
   "pygments_lexer": "ipython3",
   "version": "3.9.13"
  },
  "orig_nbformat": 4,
  "vscode": {
   "interpreter": {
    "hash": "b08d4e915909979493bd3155b351ad3d0831aa0158d41d9a637efe01295751b9"
   }
  }
 },
 "nbformat": 4,
 "nbformat_minor": 2
}
