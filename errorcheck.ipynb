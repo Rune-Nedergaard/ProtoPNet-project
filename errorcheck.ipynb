{
 "cells": [
  {
   "cell_type": "code",
   "execution_count": 2,
   "metadata": {},
   "outputs": [],
   "source": [
    "import os\n",
    "test_image_dir = 'datasets/FETAL_PLANES_DB/test'"
   ]
  },
  {
   "cell_type": "code",
   "execution_count": 9,
   "metadata": {},
   "outputs": [
    {
     "name": "stdout",
     "output_type": "stream",
     "text": [
      "l_abdomen\n",
      "0\n",
      "l_femur\n",
      "1\n",
      "l_thorax\n",
      "2\n",
      "rnal_cervix\n",
      "3\n",
      "r\n",
      "4\n",
      "s-cerebellum\n",
      "5\n",
      "s-thalamic\n",
      "6\n",
      "s-ventricular\n",
      "7\n"
     ]
    }
   ],
   "source": [
    "classname_dict = dict()\n",
    "for count, folder in enumerate(next(os.walk(test_image_dir))[1]):\n",
    "    print(folder[4:])\n",
    "    print(count)\n",
    "    #classname_dict[int(folder[0:3])-1] = folder[4:]"
   ]
  },
  {
   "cell_type": "code",
   "execution_count": 10,
   "metadata": {},
   "outputs": [],
   "source": [
    "import re\n",
    "\n",
    "truth = 'd: 0 5 sadgeg'\n",
    "\n",
    "truth_search = re.findall(r'\\d+', truth)\n"
   ]
  },
  {
   "cell_type": "code",
   "execution_count": 17,
   "metadata": {},
   "outputs": [],
   "source": [
    "def read_local_analysis_log(file_loc):\n",
    "    log_file = open(file_loc, 'r')\n",
    "    for _ in range(8):\n",
    "        _ = log_file.readline()\n",
    "    pred = log_file.readline()[len(\"Predicted: \"):]\n",
    "    actual = log_file.readline()[len(\"Actual: \"):]\n",
    "    log_file.close()\n",
    "    return pred, actual\n"
   ]
  },
  {
   "cell_type": "code",
   "execution_count": 13,
   "metadata": {},
   "outputs": [],
   "source": [
    "source_dir = 'saved_models/vgg19/003/pruned_prototypes_epoch10_k6_pt3/cere.png/'"
   ]
  },
  {
   "cell_type": "code",
   "execution_count": 18,
   "metadata": {},
   "outputs": [
    {
     "name": "stdout",
     "output_type": "stream",
     "text": [
      "5\n",
      "\n",
      "5\n",
      "\n"
     ]
    }
   ],
   "source": [
    "pred, truth = read_local_analysis_log(os.path.join(source_dir + 'local_analysis.log'))\n",
    "print(pred)\n",
    "print(truth)"
   ]
  },
  {
   "cell_type": "code",
   "execution_count": 16,
   "metadata": {},
   "outputs": [
    {
     "data": {
      "text/plain": [
       "'d: 5\\n'"
      ]
     },
     "execution_count": 16,
     "metadata": {},
     "output_type": "execute_result"
    }
   ],
   "source": [
    "truth"
   ]
  }
 ],
 "metadata": {
  "kernelspec": {
   "display_name": "Python 3.9.13 ('css')",
   "language": "python",
   "name": "python3"
  },
  "language_info": {
   "codemirror_mode": {
    "name": "ipython",
    "version": 3
   },
   "file_extension": ".py",
   "mimetype": "text/x-python",
   "name": "python",
   "nbconvert_exporter": "python",
   "pygments_lexer": "ipython3",
   "version": "3.9.13"
  },
  "orig_nbformat": 4,
  "vscode": {
   "interpreter": {
    "hash": "62d2e8ce6522291d9930173861772635a8d5610900201c489ec5ebd5d6e92cdf"
   }
  }
 },
 "nbformat": 4,
 "nbformat_minor": 2
}
